{
 "cells": [
  {
   "cell_type": "markdown",
   "metadata": {},
   "source": [
    "# Addition"
   ]
  },
  {
   "cell_type": "markdown",
   "metadata": {},
   "source": [
    "Hier mit diesem $n$ kannst Du die Schwierigkeit einstellen. \n",
    "\n",
    "Du bekommst dann Zahlen von $-n$ bis $n$."
   ]
  },
  {
   "cell_type": "code",
   "execution_count": null,
   "metadata": {},
   "outputs": [],
   "source": [
    "anzahl_der_aufgaben = 1;\n",
    "n = 10;"
   ]
  },
  {
   "cell_type": "markdown",
   "metadata": {},
   "source": [
    "Schreibe deine $n = 10$ rein und dann drücke\n",
    "\n",
    "- \"run\" oben in der Leiste\n",
    "- oder \"shift + enter\""
   ]
  },
  {
   "cell_type": "markdown",
   "metadata": {},
   "source": [
    "## Aufgaben programmiern"
   ]
  },
  {
   "cell_type": "markdown",
   "metadata": {},
   "source": [
    "### Generiere eine Aufgabe"
   ]
  },
  {
   "cell_type": "markdown",
   "metadata": {},
   "source": [
    "Hier bauen wir unseren eigenen Aufgabengenerator. Dazu verwenden wir die Programmiersprache Julia."
   ]
  },
  {
   "cell_type": "code",
   "execution_count": 13,
   "metadata": {},
   "outputs": [
    {
     "data": {
      "text/plain": [
       "nächste_aufgabe (generic function with 2 methods)"
      ]
     },
     "execution_count": 13,
     "metadata": {},
     "output_type": "execute_result"
    }
   ],
   "source": [
    "function nächste_aufgabe(_n = 10)  \n",
    "    (A, B) = rand(-_n:_n,2,1)\n",
    "    ergebnis = A + B\n",
    "    println(\"$A + $B = \")\n",
    "    return ergebnis\n",
    "end"
   ]
  },
  {
   "cell_type": "markdown",
   "metadata": {},
   "source": [
    "Wir haben eine Funktion erstellt mit dem Namen ```nächste_aufgabe```. Als Argument (Mitgabewert) nimmt die Funktion ```_n = 10```. Argumente geben wir mit, damit wir diese in der Funktion verwenden können.\n",
    "\n",
    "Es werden folgende Anweisungen gemacht:\n",
    "- ```A, B``` werden mit zufälligen Zahlen von $-n$ bis $n$ befüllt\n",
    "- ```A + B``` wird in ```ergebnis``` gespeichert\n",
    "- $A + B = $ wird ausgegeben\n",
    "- Die Funktion gibt das ```ergebnis``` als Wert zurück"
   ]
  },
  {
   "cell_type": "markdown",
   "metadata": {},
   "source": [
    "### Test"
   ]
  },
  {
   "cell_type": "markdown",
   "metadata": {},
   "source": [
    "Jetzt testen wir unsere gerade geschriebene Funktion."
   ]
  },
  {
   "cell_type": "code",
   "execution_count": 14,
   "metadata": {},
   "outputs": [],
   "source": [
    "rückgabe_wert = nächste_aufgabe();"
   ]
  },
  {
   "cell_type": "markdown",
   "metadata": {},
   "source": [
    "Unsere erste Aufgabe wurde uns gestellt und das Ergebnis dieser Aufgabe ist in ```rückgabe_wert``` gespeichert. Wenn wir uns anschauen wollen, was das Ergebnis ist, dann könnten wir es uns mit ```println(.)``` anzeigen lassen."
   ]
  },
  {
   "cell_type": "code",
   "execution_count": 15,
   "metadata": {
    "scrolled": true
   },
   "outputs": [],
   "source": [
    "println(rückgabe_wert)"
   ]
  },
  {
   "cell_type": "markdown",
   "metadata": {},
   "source": [
    "## Ergebnis prüfen"
   ]
  },
  {
   "cell_type": "code",
   "execution_count": 16,
   "metadata": {},
   "outputs": [
    {
     "data": {
      "text/plain": [
       "überprüfe_das_Ergebnis (generic function with 3 methods)"
      ]
     },
     "execution_count": 16,
     "metadata": {},
     "output_type": "execute_result"
    }
   ],
   "source": [
    "function überprüfe_das_Ergebnis(_ergebnis, _mein_ergebnis = 0.0, _anzahl_der_aufgaben = 0)\n",
    "    if _ergebnis == _mein_ergebnis\n",
    "        print(\"$_anzahl_der_aufgaben. ist richitg!\")\n",
    "    else \n",
    "        print(\"$_anzahl_der_aufgaben. ist leider falsch\")\n",
    "    end\n",
    "    return _anzahl_der_aufgaben + 1\n",
    "end"
   ]
  },
  {
   "cell_type": "markdown",
   "metadata": {},
   "source": [
    "Diese Funktion haben wir ```überprüfe_das_Ergebnis``` genannt und als Argumente haben wir ```_ergebnis, _mein_ergebnis = 0.0, _anzahl_der_aufgaben = 0```.\n",
    "\n",
    "Die Funktion unterscheidet zwei Fälle. Dies machen wir mit ```if ... else```:\n",
    "- wenn ```_ergebnis == _mein_ergebnis``` dann geben wir \"richitg\" aus\n",
    "- sonst \"falsch\"\n",
    "\n",
    "Am Ende geben wir die Anzahl der bearbeiteten ```_anzahl_der_aufgaben``` zurück. Dieser wird davor noch um $1$ erhöht."
   ]
  },
  {
   "cell_type": "markdown",
   "metadata": {},
   "source": [
    "## Rechnen üben"
   ]
  },
  {
   "cell_type": "markdown",
   "metadata": {},
   "source": [
    "Jetzt können wir unsere geschriebenen Funktionen nutzen.\n",
    "\n",
    "Wir rufen einfach ```nächste_aufgabe``` auf und uns wird eine neue Aufgabe gestellt. Das Ergebnis wird auch gleich mitgeliefert, da wir es nachher noch beim überprüfen der Aufgabe brauchen."
   ]
  },
  {
   "cell_type": "code",
   "execution_count": 17,
   "metadata": {},
   "outputs": [],
   "source": [
    "ergebnis = nächste_aufgabe(n);"
   ]
  },
  {
   "cell_type": "markdown",
   "metadata": {},
   "source": [
    "Rechnen, rechnen, rechnen... Und dann speichern wir unsere Lösung in ```mein_ergebnis```."
   ]
  },
  {
   "cell_type": "code",
   "execution_count": 18,
   "metadata": {},
   "outputs": [
    {
     "data": {
      "text/plain": [
       "0"
      ]
     },
     "execution_count": 18,
     "metadata": {},
     "output_type": "execute_result"
    },
    {
     "name": "stdout",
     "output_type": "stream",
     "text": [
      "10 + 8 = \n",
      "18\n",
      "9 + -7 = \n"
     ]
    }
   ],
   "source": [
    "mein_ergebnis = 0"
   ]
  },
  {
   "cell_type": "code",
   "execution_count": 19,
   "metadata": {},
   "outputs": [
    {
     "name": "stdout",
     "output_type": "stream",
     "text": [
      "1. ist leider falsch"
     ]
    }
   ],
   "source": [
    "anzahl_der_aufgaben = überprüfe_das_Ergebnis(ergebnis, mein_ergebnis, anzahl_der_aufgaben);"
   ]
  },
  {
   "cell_type": "code",
   "execution_count": null,
   "metadata": {},
   "outputs": [],
   "source": []
  }
 ],
 "metadata": {
  "kernelspec": {
   "display_name": "Julia 1.0.0",
   "language": "julia",
   "name": "julia-1.0"
  },
  "language_info": {
   "file_extension": ".jl",
   "mimetype": "application/julia",
   "name": "julia",
   "version": "1.0.0"
  }
 },
 "nbformat": 4,
 "nbformat_minor": 2
}
