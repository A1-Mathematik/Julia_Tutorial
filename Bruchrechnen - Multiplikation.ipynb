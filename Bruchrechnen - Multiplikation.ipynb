{
 "cells": [
  {
   "cell_type": "markdown",
   "metadata": {},
   "source": [
    "# Bruchrechnen - Multiplikation"
   ]
  },
  {
   "cell_type": "markdown",
   "metadata": {},
   "source": [
    "Bei Bruchrechnen ist Multiplikation viel einfach als Addition. Aus diesem Grund beginnen wir erst einmal mit Multiplikation."
   ]
  },
  {
   "cell_type": "markdown",
   "metadata": {},
   "source": [
    "Damit wir die Brüche schön anzeigen können, brauchen wir ein kleines Packet. Diese können wir mit dem Packetmanager ```Pkg``` hinzufügen. Das Packet heißt \"LaTeXString\". Danach müssen wir es noch einbinden. Das machen wir mit ```using```."
   ]
  },
  {
   "cell_type": "code",
   "execution_count": 2,
   "metadata": {},
   "outputs": [],
   "source": [
    "#Pkg.add(\"LaTeXStrings\")\n",
    "using LaTeXStrings"
   ]
  },
  {
   "cell_type": "markdown",
   "metadata": {},
   "source": [
    "Nun stellen wir wieder unserer gewünschte Schwierigkeitsstufe ein."
   ]
  },
  {
   "cell_type": "code",
   "execution_count": 3,
   "metadata": {},
   "outputs": [],
   "source": [
    "n = 10;\n",
    "zähler = n;\n",
    "nenner = n;"
   ]
  },
  {
   "cell_type": "markdown",
   "metadata": {},
   "source": [
    "## Aufgabe generieren"
   ]
  },
  {
   "cell_type": "markdown",
   "metadata": {},
   "source": [
    "Wie bei dem Tutorial davor, generieren wir uns zufällig Aufgaben."
   ]
  },
  {
   "cell_type": "code",
   "execution_count": 4,
   "metadata": {},
   "outputs": [
    {
     "data": {
      "text/plain": [
       "nächste_aufgabe (generic function with 1 method)"
      ]
     },
     "execution_count": 4,
     "metadata": {},
     "output_type": "execute_result"
    }
   ],
   "source": [
    "function nächste_aufgabe(_zähler, _nenner) \n",
    "    z₁, z₂ = rand(-_zähler:_zähler, 2, 1)\n",
    "    n₁, n₂ = rand(-_nenner:_nenner, 2, 1)\n",
    "    latex = \"\\\\frac{$z₁}{$n₁} \\\\cdot \\\\frac{$z₂}{$n₂} = \"\n",
    "    display(\"text/latex\", latexstring(latex))\n",
    "    return z₁//n₁ * z₂//n₂   \n",
    "end"
   ]
  },
  {
   "cell_type": "markdown",
   "metadata": {},
   "source": [
    "- Unsere Funktion ```nächste_aufgabe``` bekommt als Argument (Übergabewert) ```_zähler``` und ```_nenner```.\n",
    "- Wir generieren vier zufällige Zahlen $z_i$ für die Zähler und $n_i$ für die Nenner.\n",
    "- Der entsprechende Latexcode wird erstellt. (Für diese Tutorialreihe ist das nicht so wichitg, da wir Julia lang und nicht Latex lernen wollen).\n",
    "- Mit der Funktion ```display``` können wir unseren Latexcode schön darstellen.\n",
    "- Als Rückgabewert erstellen wir die zwei Brüche in Julia mit ```//``` und multiplizieren sie und bekommen so das Ergebnis als Bruch von der Funktion zurück."
   ]
  },
  {
   "cell_type": "markdown",
   "metadata": {},
   "source": [
    "### Testen"
   ]
  },
  {
   "cell_type": "markdown",
   "metadata": {},
   "source": [
    "Jetzt können wir die Funktion ```nächste_aufgabe``` Mal testen."
   ]
  },
  {
   "cell_type": "code",
   "execution_count": 5,
   "metadata": {},
   "outputs": [
    {
     "data": {
      "text/latex": [
       "$\\frac{-9}{4} \\cdot \\frac{-3}{10} = $"
      ]
     },
     "metadata": {},
     "output_type": "display_data"
    },
    {
     "data": {
      "text/plain": [
       "27//40"
      ]
     },
     "execution_count": 5,
     "metadata": {},
     "output_type": "execute_result"
    }
   ],
   "source": [
    "ergebnis = nächste_aufgabe(zähler,nenner)"
   ]
  },
  {
   "cell_type": "markdown",
   "metadata": {},
   "source": [
    "Wir sehen, dass wir die Brüche schön dargestellt bekommen und das Ergebnis im \"Out[.]\" angezeigt wird."
   ]
  },
  {
   "cell_type": "markdown",
   "metadata": {},
   "source": [
    "## Prüfe, ob mein Ergebnis richitg ist"
   ]
  },
  {
   "cell_type": "markdown",
   "metadata": {},
   "source": [
    "Damit wir wieder rechnen üben können, brauchen wir noch eine Funktion, die unser Erbenis überprüft."
   ]
  },
  {
   "cell_type": "code",
   "execution_count": 6,
   "metadata": {},
   "outputs": [
    {
     "data": {
      "text/plain": [
       "prüfe (generic function with 1 method)"
      ]
     },
     "execution_count": 6,
     "metadata": {},
     "output_type": "execute_result"
    }
   ],
   "source": [
    "function prüfe(_ergebnis, _mein_ergebnis)\n",
    "    if _ergebnis == _mein_ergebnis\n",
    "        println(\"Super!\")\n",
    "    else\n",
    "        println(\"Leider falsch...\")\n",
    "    end\n",
    "end"
   ]
  },
  {
   "cell_type": "markdown",
   "metadata": {},
   "source": [
    "Diese Funktion nennen wir ```prüfe```.\n",
    "- Als Argument bekommt sie ```_ergebnis``` und ```_mein_ergebnis```\n",
    "- Dann unterscheiden wir zwei Fälle\n",
    "    - Das unser Ergenis ist richtig: ```_ergebnis == _mein_ergebnis```\n",
    "    - oder falsch"
   ]
  },
  {
   "cell_type": "markdown",
   "metadata": {},
   "source": [
    "## Rechnen üben"
   ]
  },
  {
   "cell_type": "markdown",
   "metadata": {},
   "source": [
    "Jetzt haben wir alles und können üben. Hierzu rufen wir ```ergebnis = nächste_aufgabe(zähler,nenner);``` auf."
   ]
  },
  {
   "cell_type": "code",
   "execution_count": 7,
   "metadata": {},
   "outputs": [
    {
     "data": {
      "text/latex": [
       "$\\frac{0}{-2} \\cdot \\frac{4}{-2} = $"
      ]
     },
     "metadata": {},
     "output_type": "display_data"
    }
   ],
   "source": [
    "ergebnis = nächste_aufgabe(zähler,nenner);"
   ]
  },
  {
   "cell_type": "markdown",
   "metadata": {},
   "source": [
    "Wenn wir unser Ergebnis ausgerechnet haben, dann können wir es in ```mein_ergebnis``` speichern. Das machen wir mit ```Zähler//Nenner```, dh. der Bruch wird mit ```//``` getrennt."
   ]
  },
  {
   "cell_type": "code",
   "execution_count": 10,
   "metadata": {},
   "outputs": [
    {
     "data": {
      "text/plain": [
       "0//1"
      ]
     },
     "execution_count": 10,
     "metadata": {},
     "output_type": "execute_result"
    }
   ],
   "source": [
    "mein_ergebnis = 0//1"
   ]
  },
  {
   "cell_type": "markdown",
   "metadata": {},
   "source": [
    "Und am Ende rufen wir die ```prüfe``` Funktion auf mit ```mein_ergebnis``` und dem richtigen Ergebnis ```ergebnis```."
   ]
  },
  {
   "cell_type": "code",
   "execution_count": 12,
   "metadata": {},
   "outputs": [
    {
     "name": "stdout",
     "output_type": "stream",
     "text": [
      "Super!\n"
     ]
    }
   ],
   "source": [
    "prüfe(ergebnis, mein_ergebnis)"
   ]
  },
  {
   "cell_type": "markdown",
   "metadata": {},
   "source": [
    "Das wiederholen wir so oft, bis wir keine Lust mehr haben^^\n"
   ]
  }
 ],
 "metadata": {
  "kernelspec": {
   "display_name": "Julia 0.6.3",
   "language": "julia",
   "name": "julia-0.6"
  },
  "language_info": {
   "file_extension": ".jl",
   "mimetype": "application/julia",
   "name": "julia",
   "version": "0.6.3"
  }
 },
 "nbformat": 4,
 "nbformat_minor": 2
}
